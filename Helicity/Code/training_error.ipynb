{
 "cells": [
  {
   "cell_type": "code",
   "execution_count": 1,
   "id": "10b614ef-9709-4a7a-9231-3f79efda1429",
   "metadata": {
    "tags": []
   },
   "outputs": [],
   "source": [
    "from sklearn.linear_model import LinearRegression\n",
    "from sklearn.svm import SVR\n",
    "from sklearn.ensemble import GradientBoostingRegressor, RandomForestRegressor\n",
    "from sklearn.preprocessing import StandardScaler, PolynomialFeatures\n",
    "from sklearn.model_selection import train_test_split, TimeSeriesSplit, GridSearchCV\n",
    "from sklearn import pipeline\n",
    "import sklearn\n",
    "import xgboost\n",
    "from xgboost import XGBRegressor\n",
    "import numpy as np\n",
    "import pandas as pd\n",
    "import math\n",
    "from sklearn.metrics import r2_score, mean_squared_error, mean_absolute_error\n",
    "from numpy.random import seed\n",
    "from numpy.random import normal\n",
    "import joblib\n",
    "\n",
    "import warnings\n",
    "warnings.filterwarnings(\"ignore\")\n",
    "\n",
    "pd.options.display.max_columns = None\n",
    "pd.options.display.max_rows = None\n",
    "pd.options.mode.chained_assignment = None"
   ]
  },
  {
   "cell_type": "code",
   "execution_count": 2,
   "id": "60e2823e-81e0-4d23-b831-378817bbd16b",
   "metadata": {
    "tags": []
   },
   "outputs": [],
   "source": [
    "data_dict = {\n",
    "    'Yes':'../Data/Synthetic_train_data_with_exp.csv',\n",
    "    'No':'../Data/Synthetic_train_data_without_exp.csv'\n",
    "}\n",
    "\n",
    "model_dict = {\n",
    "    'GB':{\n",
    "        'Yes':'../model/GB_exp_Yes.sav',\n",
    "        'No':'../model/GB_exp_No.sav'\n",
    "    },\n",
    "    'RF':{\n",
    "        'Yes':'../model/RF_exp_Yes.sav',\n",
    "        'No':'../model/RF_exp_No.sav'\n",
    "    },\n",
    "    'XGB':{\n",
    "        'Yes':'../model/XGB_exp_Yes.sav',\n",
    "        'No':'../model/XGB_exp_No.sav'\n",
    "    }\n",
    "}"
   ]
  },
  {
   "cell_type": "code",
   "execution_count": 3,
   "id": "ae26fc24-94dd-4107-9b14-f48891b56c16",
   "metadata": {
    "tags": []
   },
   "outputs": [
    {
     "name": "stdout",
     "output_type": "stream",
     "text": [
      "No\n"
     ]
    },
    {
     "ename": "AttributeError",
     "evalue": "'HalfSquaredError' object has no attribute 'get_init_raw_predictions'",
     "output_type": "error",
     "traceback": [
      "\u001b[0;31m---------------------------------------------------------------------------\u001b[0m",
      "\u001b[0;31mAttributeError\u001b[0m                            Traceback (most recent call last)",
      "Cell \u001b[0;32mIn[3], line 23\u001b[0m\n\u001b[1;32m     21\u001b[0m         X \u001b[38;5;241m=\u001b[39m data[data\u001b[38;5;241m.\u001b[39mP\u001b[38;5;241m==\u001b[39mp]\u001b[38;5;241m.\u001b[39miloc[:, [\u001b[38;5;241m0\u001b[39m,\u001b[38;5;241m2\u001b[39m,\u001b[38;5;241m3\u001b[39m,\u001b[38;5;241m4\u001b[39m,\u001b[38;5;241m5\u001b[39m,\u001b[38;5;241m6\u001b[39m,\u001b[38;5;241m7\u001b[39m,\u001b[38;5;241m8\u001b[39m,\u001b[38;5;241m9\u001b[39m,\u001b[38;5;241m10\u001b[39m]]\u001b[38;5;241m.\u001b[39mvalues\n\u001b[1;32m     22\u001b[0m         rv\u001b[38;5;241m.\u001b[39mextend(data[data\u001b[38;5;241m.\u001b[39mP\u001b[38;5;241m==\u001b[39mp][\u001b[38;5;124m'\u001b[39m\u001b[38;5;124mtarget\u001b[39m\u001b[38;5;124m'\u001b[39m]\u001b[38;5;241m.\u001b[39mvalues)\n\u001b[0;32m---> 23\u001b[0m         pv\u001b[38;5;241m.\u001b[39mextend(model[p\u001b[38;5;241m-\u001b[39m\u001b[38;5;241m1\u001b[39m]\u001b[38;5;241m.\u001b[39mpredict(X))\n\u001b[1;32m     25\u001b[0m \u001b[38;5;28mprint\u001b[39m(data\u001b[38;5;241m.\u001b[39mshape[\u001b[38;5;241m0\u001b[39m], \u001b[38;5;28mlen\u001b[39m(rv), \u001b[38;5;28mlen\u001b[39m(pv))\n\u001b[1;32m     27\u001b[0m \u001b[38;5;28;01mif\u001b[39;00m \u001b[38;5;28mlen\u001b[39m(rv)\u001b[38;5;241m==\u001b[39mdata\u001b[38;5;241m.\u001b[39mshape[\u001b[38;5;241m0\u001b[39m] \u001b[38;5;129;01mand\u001b[39;00m \u001b[38;5;28mlen\u001b[39m(pv)\u001b[38;5;241m==\u001b[39mdata\u001b[38;5;241m.\u001b[39mshape[\u001b[38;5;241m0\u001b[39m]:\n",
      "File \u001b[0;32m~/miniconda3/lib/python3.11/site-packages/sklearn/pipeline.py:515\u001b[0m, in \u001b[0;36mPipeline.predict\u001b[0;34m(self, X, **predict_params)\u001b[0m\n\u001b[1;32m    513\u001b[0m \u001b[38;5;28;01mfor\u001b[39;00m _, name, transform \u001b[38;5;129;01min\u001b[39;00m \u001b[38;5;28mself\u001b[39m\u001b[38;5;241m.\u001b[39m_iter(with_final\u001b[38;5;241m=\u001b[39m\u001b[38;5;28;01mFalse\u001b[39;00m):\n\u001b[1;32m    514\u001b[0m     Xt \u001b[38;5;241m=\u001b[39m transform\u001b[38;5;241m.\u001b[39mtransform(Xt)\n\u001b[0;32m--> 515\u001b[0m \u001b[38;5;28;01mreturn\u001b[39;00m \u001b[38;5;28mself\u001b[39m\u001b[38;5;241m.\u001b[39msteps[\u001b[38;5;241m-\u001b[39m\u001b[38;5;241m1\u001b[39m][\u001b[38;5;241m1\u001b[39m]\u001b[38;5;241m.\u001b[39mpredict(Xt, \u001b[38;5;241m*\u001b[39m\u001b[38;5;241m*\u001b[39mpredict_params)\n",
      "File \u001b[0;32m~/miniconda3/lib/python3.11/site-packages/sklearn/ensemble/_gb.py:1790\u001b[0m, in \u001b[0;36mGradientBoostingRegressor.predict\u001b[0;34m(self, X)\u001b[0m\n\u001b[1;32m   1786\u001b[0m X \u001b[38;5;241m=\u001b[39m \u001b[38;5;28mself\u001b[39m\u001b[38;5;241m.\u001b[39m_validate_data(\n\u001b[1;32m   1787\u001b[0m     X, dtype\u001b[38;5;241m=\u001b[39mDTYPE, order\u001b[38;5;241m=\u001b[39m\u001b[38;5;124m\"\u001b[39m\u001b[38;5;124mC\u001b[39m\u001b[38;5;124m\"\u001b[39m, accept_sparse\u001b[38;5;241m=\u001b[39m\u001b[38;5;124m\"\u001b[39m\u001b[38;5;124mcsr\u001b[39m\u001b[38;5;124m\"\u001b[39m, reset\u001b[38;5;241m=\u001b[39m\u001b[38;5;28;01mFalse\u001b[39;00m\n\u001b[1;32m   1788\u001b[0m )\n\u001b[1;32m   1789\u001b[0m \u001b[38;5;66;03m# In regression we can directly return the raw value from the trees.\u001b[39;00m\n\u001b[0;32m-> 1790\u001b[0m \u001b[38;5;28;01mreturn\u001b[39;00m \u001b[38;5;28mself\u001b[39m\u001b[38;5;241m.\u001b[39m_raw_predict(X)\u001b[38;5;241m.\u001b[39mravel()\n",
      "File \u001b[0;32m~/miniconda3/lib/python3.11/site-packages/sklearn/ensemble/_gb.py:685\u001b[0m, in \u001b[0;36mBaseGradientBoosting._raw_predict\u001b[0;34m(self, X)\u001b[0m\n\u001b[1;32m    683\u001b[0m \u001b[38;5;28;01mdef\u001b[39;00m \u001b[38;5;21m_raw_predict\u001b[39m(\u001b[38;5;28mself\u001b[39m, X):\n\u001b[1;32m    684\u001b[0m \u001b[38;5;250m    \u001b[39m\u001b[38;5;124;03m\"\"\"Return the sum of the trees raw predictions (+ init estimator).\"\"\"\u001b[39;00m\n\u001b[0;32m--> 685\u001b[0m     raw_predictions \u001b[38;5;241m=\u001b[39m \u001b[38;5;28mself\u001b[39m\u001b[38;5;241m.\u001b[39m_raw_predict_init(X)\n\u001b[1;32m    686\u001b[0m     predict_stages(\u001b[38;5;28mself\u001b[39m\u001b[38;5;241m.\u001b[39mestimators_, X, \u001b[38;5;28mself\u001b[39m\u001b[38;5;241m.\u001b[39mlearning_rate, raw_predictions)\n\u001b[1;32m    687\u001b[0m     \u001b[38;5;28;01mreturn\u001b[39;00m raw_predictions\n",
      "File \u001b[0;32m~/miniconda3/lib/python3.11/site-packages/sklearn/ensemble/_gb.py:678\u001b[0m, in \u001b[0;36mBaseGradientBoosting._raw_predict_init\u001b[0;34m(self, X)\u001b[0m\n\u001b[1;32m    674\u001b[0m     raw_predictions \u001b[38;5;241m=\u001b[39m np\u001b[38;5;241m.\u001b[39mzeros(\n\u001b[1;32m    675\u001b[0m         shape\u001b[38;5;241m=\u001b[39m(X\u001b[38;5;241m.\u001b[39mshape[\u001b[38;5;241m0\u001b[39m], \u001b[38;5;28mself\u001b[39m\u001b[38;5;241m.\u001b[39m_loss\u001b[38;5;241m.\u001b[39mK), dtype\u001b[38;5;241m=\u001b[39mnp\u001b[38;5;241m.\u001b[39mfloat64\n\u001b[1;32m    676\u001b[0m     )\n\u001b[1;32m    677\u001b[0m \u001b[38;5;28;01melse\u001b[39;00m:\n\u001b[0;32m--> 678\u001b[0m     raw_predictions \u001b[38;5;241m=\u001b[39m \u001b[38;5;28mself\u001b[39m\u001b[38;5;241m.\u001b[39m_loss\u001b[38;5;241m.\u001b[39mget_init_raw_predictions(X, \u001b[38;5;28mself\u001b[39m\u001b[38;5;241m.\u001b[39minit_)\u001b[38;5;241m.\u001b[39mastype(\n\u001b[1;32m    679\u001b[0m         np\u001b[38;5;241m.\u001b[39mfloat64\n\u001b[1;32m    680\u001b[0m     )\n\u001b[1;32m    681\u001b[0m \u001b[38;5;28;01mreturn\u001b[39;00m raw_predictions\n",
      "\u001b[0;31mAttributeError\u001b[0m: 'HalfSquaredError' object has no attribute 'get_init_raw_predictions'"
     ]
    }
   ],
   "source": [
    "for key in data_dict:\n",
    "    if key=='Yes': continue\n",
    "    print(key)\n",
    "    data = pd.read_csv(data_dict[key])\n",
    "    \n",
    "    for model_type in ['GB', 'RF', 'XGB']:\n",
    "        model = joblib.load(model_dict[model_type][key])\n",
    "        \n",
    "        rv=[]\n",
    "        pv=[]\n",
    "        \n",
    "        if key=='Yes':\n",
    "            for p in range(1,7):\n",
    "                #for exp in range(1, 1901):\n",
    "                X = data[data.P==p].iloc[:, :-1].values\n",
    "                rv.extend(data[data.P==p]['target'].values)\n",
    "                pv.extend(model[p-1].predict(X))\n",
    "\n",
    "        elif key=='No':\n",
    "            for p in range(1,7):\n",
    "                X = data[data.P==p].iloc[:, [0,2,3,4,5,6,7,8,9,10]].values\n",
    "                rv.extend(data[data.P==p]['target'].values)\n",
    "                pv.extend(model[p-1].predict(X))\n",
    "                \n",
    "        print(data.shape[0], len(rv), len(pv))\n",
    "        \n",
    "        if len(rv)==data.shape[0] and len(pv)==data.shape[0]:\n",
    "            rmse = np.sqrt(mean_squared_error(rv,pv))\n",
    "            mae = np.sqrt(mean_absolute_error(rv,pv))\n",
    "            print(f\"Model={model_type}, useExp={key}, RMSE={rmse:.3f}, MAE={mae:.3f}\")\n",
    "            \n",
    "del [rv, pv, data, model, X]"
   ]
  },
  {
   "cell_type": "code",
   "execution_count": null,
   "id": "3d817a6d-3097-4393-846b-438d277b52ff",
   "metadata": {},
   "outputs": [],
   "source": []
  },
  {
   "cell_type": "markdown",
   "id": "d7097d66-dfa3-4570-af9e-6d7ef31ee717",
   "metadata": {},
   "source": [
    "## Train error of Gradient boost with exp value"
   ]
  },
  {
   "cell_type": "code",
   "execution_count": 6,
   "id": "87f9d815-6cd6-405f-a77b-ce3c181be683",
   "metadata": {
    "tags": []
   },
   "outputs": [
    {
     "name": "stdout",
     "output_type": "stream",
     "text": [
      "(2246982, 11)\n"
     ]
    },
    {
     "data": {
      "text/html": [
       "<div>\n",
       "<style scoped>\n",
       "    .dataframe tbody tr th:only-of-type {\n",
       "        vertical-align: middle;\n",
       "    }\n",
       "\n",
       "    .dataframe tbody tr th {\n",
       "        vertical-align: top;\n",
       "    }\n",
       "\n",
       "    .dataframe thead th {\n",
       "        text-align: right;\n",
       "    }\n",
       "</style>\n",
       "<table border=\"1\" class=\"dataframe\">\n",
       "  <thead>\n",
       "    <tr style=\"text-align: right;\">\n",
       "      <th></th>\n",
       "      <th>P</th>\n",
       "      <th>w1</th>\n",
       "      <th>m1</th>\n",
       "      <th>w2</th>\n",
       "      <th>m2</th>\n",
       "      <th>w3</th>\n",
       "      <th>m3</th>\n",
       "      <th>w4</th>\n",
       "      <th>m4</th>\n",
       "      <th>w5</th>\n",
       "      <th>target</th>\n",
       "    </tr>\n",
       "  </thead>\n",
       "  <tbody>\n",
       "    <tr>\n",
       "      <th>0</th>\n",
       "      <td>1</td>\n",
       "      <td>0.0</td>\n",
       "      <td>0.000000</td>\n",
       "      <td>0.1</td>\n",
       "      <td>0.425324</td>\n",
       "      <td>0.2</td>\n",
       "      <td>0.854600</td>\n",
       "      <td>0.3</td>\n",
       "      <td>1.281640</td>\n",
       "      <td>0.4</td>\n",
       "      <td>1.698087</td>\n",
       "    </tr>\n",
       "    <tr>\n",
       "      <th>1</th>\n",
       "      <td>1</td>\n",
       "      <td>0.1</td>\n",
       "      <td>0.425324</td>\n",
       "      <td>0.2</td>\n",
       "      <td>0.854600</td>\n",
       "      <td>0.3</td>\n",
       "      <td>1.281640</td>\n",
       "      <td>0.4</td>\n",
       "      <td>1.698087</td>\n",
       "      <td>0.5</td>\n",
       "      <td>2.124392</td>\n",
       "    </tr>\n",
       "    <tr>\n",
       "      <th>2</th>\n",
       "      <td>1</td>\n",
       "      <td>0.2</td>\n",
       "      <td>0.854600</td>\n",
       "      <td>0.3</td>\n",
       "      <td>1.281640</td>\n",
       "      <td>0.4</td>\n",
       "      <td>1.698087</td>\n",
       "      <td>0.5</td>\n",
       "      <td>2.124392</td>\n",
       "      <td>0.6</td>\n",
       "      <td>2.533590</td>\n",
       "    </tr>\n",
       "    <tr>\n",
       "      <th>3</th>\n",
       "      <td>1</td>\n",
       "      <td>0.3</td>\n",
       "      <td>1.281640</td>\n",
       "      <td>0.4</td>\n",
       "      <td>1.698087</td>\n",
       "      <td>0.5</td>\n",
       "      <td>2.124392</td>\n",
       "      <td>0.6</td>\n",
       "      <td>2.533590</td>\n",
       "      <td>0.7</td>\n",
       "      <td>2.957967</td>\n",
       "    </tr>\n",
       "    <tr>\n",
       "      <th>4</th>\n",
       "      <td>1</td>\n",
       "      <td>0.4</td>\n",
       "      <td>1.698087</td>\n",
       "      <td>0.5</td>\n",
       "      <td>2.124392</td>\n",
       "      <td>0.6</td>\n",
       "      <td>2.533590</td>\n",
       "      <td>0.7</td>\n",
       "      <td>2.957967</td>\n",
       "      <td>0.8</td>\n",
       "      <td>3.359399</td>\n",
       "    </tr>\n",
       "  </tbody>\n",
       "</table>\n",
       "</div>"
      ],
      "text/plain": [
       "   P   w1        m1   w2        m2   w3        m3   w4        m4   w5  \\\n",
       "0  1  0.0  0.000000  0.1  0.425324  0.2  0.854600  0.3  1.281640  0.4   \n",
       "1  1  0.1  0.425324  0.2  0.854600  0.3  1.281640  0.4  1.698087  0.5   \n",
       "2  1  0.2  0.854600  0.3  1.281640  0.4  1.698087  0.5  2.124392  0.6   \n",
       "3  1  0.3  1.281640  0.4  1.698087  0.5  2.124392  0.6  2.533590  0.7   \n",
       "4  1  0.4  1.698087  0.5  2.124392  0.6  2.533590  0.7  2.957967  0.8   \n",
       "\n",
       "     target  \n",
       "0  1.698087  \n",
       "1  2.124392  \n",
       "2  2.533590  \n",
       "3  2.957967  \n",
       "4  3.359399  "
      ]
     },
     "execution_count": 6,
     "metadata": {},
     "output_type": "execute_result"
    }
   ],
   "source": [
    "data = pd.read_csv('../Data/Synthetic_train_data_without_exp.csv')\n",
    "print(data.shape)\n",
    "data.head()"
   ]
  },
  {
   "cell_type": "code",
   "execution_count": 7,
   "id": "c525766a-5c65-48b8-b67b-8247dc1ffbfd",
   "metadata": {
    "tags": []
   },
   "outputs": [
    {
     "data": {
      "text/plain": [
       "[Pipeline(steps=[('xgb',\n",
       "                  XGBRegressor(base_score=None, booster=None, callbacks=None,\n",
       "                               colsample_bylevel=None, colsample_bynode=None,\n",
       "                               colsample_bytree=0.8, device=None,\n",
       "                               early_stopping_rounds=None,\n",
       "                               enable_categorical=False, eta=0.1,\n",
       "                               eval_metric=None, feature_types=None, gamma=None,\n",
       "                               grow_policy=None, importance_type=None,\n",
       "                               interaction_constraints=None, learning_rate=None,\n",
       "                               max_bin=None, max_cat_threshold=None,\n",
       "                               max_cat_to_onehot=None, max_delta_step=None,\n",
       "                               max_depth=10, max_leaves=None,\n",
       "                               min_child_weight=None, missing=nan,\n",
       "                               monotone_constraints=None, multi_strategy=None,\n",
       "                               n_estimators=100, n_jobs=None,\n",
       "                               num_parallel_tree=None, ...))]),\n",
       " Pipeline(steps=[('xgb',\n",
       "                  XGBRegressor(base_score=None, booster=None, callbacks=None,\n",
       "                               colsample_bylevel=None, colsample_bynode=None,\n",
       "                               colsample_bytree=0.8, device=None,\n",
       "                               early_stopping_rounds=None,\n",
       "                               enable_categorical=False, eta=0.1,\n",
       "                               eval_metric=None, feature_types=None, gamma=None,\n",
       "                               grow_policy=None, importance_type=None,\n",
       "                               interaction_constraints=None, learning_rate=None,\n",
       "                               max_bin=None, max_cat_threshold=None,\n",
       "                               max_cat_to_onehot=None, max_delta_step=None,\n",
       "                               max_depth=10, max_leaves=None,\n",
       "                               min_child_weight=None, missing=nan,\n",
       "                               monotone_constraints=None, multi_strategy=None,\n",
       "                               n_estimators=100, n_jobs=None,\n",
       "                               num_parallel_tree=None, ...))]),\n",
       " Pipeline(steps=[('xgb',\n",
       "                  XGBRegressor(base_score=None, booster=None, callbacks=None,\n",
       "                               colsample_bylevel=None, colsample_bynode=None,\n",
       "                               colsample_bytree=0.8, device=None,\n",
       "                               early_stopping_rounds=None,\n",
       "                               enable_categorical=False, eta=0.1,\n",
       "                               eval_metric=None, feature_types=None, gamma=None,\n",
       "                               grow_policy=None, importance_type=None,\n",
       "                               interaction_constraints=None, learning_rate=None,\n",
       "                               max_bin=None, max_cat_threshold=None,\n",
       "                               max_cat_to_onehot=None, max_delta_step=None,\n",
       "                               max_depth=10, max_leaves=None,\n",
       "                               min_child_weight=None, missing=nan,\n",
       "                               monotone_constraints=None, multi_strategy=None,\n",
       "                               n_estimators=100, n_jobs=None,\n",
       "                               num_parallel_tree=None, ...))]),\n",
       " Pipeline(steps=[('xgb',\n",
       "                  XGBRegressor(base_score=None, booster=None, callbacks=None,\n",
       "                               colsample_bylevel=None, colsample_bynode=None,\n",
       "                               colsample_bytree=0.8, device=None,\n",
       "                               early_stopping_rounds=None,\n",
       "                               enable_categorical=False, eta=0.1,\n",
       "                               eval_metric=None, feature_types=None, gamma=None,\n",
       "                               grow_policy=None, importance_type=None,\n",
       "                               interaction_constraints=None, learning_rate=None,\n",
       "                               max_bin=None, max_cat_threshold=None,\n",
       "                               max_cat_to_onehot=None, max_delta_step=None,\n",
       "                               max_depth=5, max_leaves=None,\n",
       "                               min_child_weight=None, missing=nan,\n",
       "                               monotone_constraints=None, multi_strategy=None,\n",
       "                               n_estimators=150, n_jobs=None,\n",
       "                               num_parallel_tree=None, ...))]),\n",
       " Pipeline(steps=[('xgb',\n",
       "                  XGBRegressor(base_score=None, booster=None, callbacks=None,\n",
       "                               colsample_bylevel=None, colsample_bynode=None,\n",
       "                               colsample_bytree=0.8, device=None,\n",
       "                               early_stopping_rounds=None,\n",
       "                               enable_categorical=False, eta=0.1,\n",
       "                               eval_metric=None, feature_types=None, gamma=None,\n",
       "                               grow_policy=None, importance_type=None,\n",
       "                               interaction_constraints=None, learning_rate=None,\n",
       "                               max_bin=None, max_cat_threshold=None,\n",
       "                               max_cat_to_onehot=None, max_delta_step=None,\n",
       "                               max_depth=5, max_leaves=None,\n",
       "                               min_child_weight=None, missing=nan,\n",
       "                               monotone_constraints=None, multi_strategy=None,\n",
       "                               n_estimators=100, n_jobs=None,\n",
       "                               num_parallel_tree=None, ...))]),\n",
       " Pipeline(steps=[('xgb',\n",
       "                  XGBRegressor(base_score=None, booster=None, callbacks=None,\n",
       "                               colsample_bylevel=None, colsample_bynode=None,\n",
       "                               colsample_bytree=0.8, device=None,\n",
       "                               early_stopping_rounds=None,\n",
       "                               enable_categorical=False, eta=0.1,\n",
       "                               eval_metric=None, feature_types=None, gamma=None,\n",
       "                               grow_policy=None, importance_type=None,\n",
       "                               interaction_constraints=None, learning_rate=None,\n",
       "                               max_bin=None, max_cat_threshold=None,\n",
       "                               max_cat_to_onehot=None, max_delta_step=None,\n",
       "                               max_depth=5, max_leaves=None,\n",
       "                               min_child_weight=None, missing=nan,\n",
       "                               monotone_constraints=None, multi_strategy=None,\n",
       "                               n_estimators=100, n_jobs=None,\n",
       "                               num_parallel_tree=None, ...))])]"
      ]
     },
     "execution_count": 7,
     "metadata": {},
     "output_type": "execute_result"
    }
   ],
   "source": [
    "model = joblib.load('../model/XGB_exp_No.sav')\n",
    "model"
   ]
  },
  {
   "cell_type": "code",
   "execution_count": 8,
   "id": "e4484961-d403-49e3-8e0f-a5e3e428cd3b",
   "metadata": {
    "tags": []
   },
   "outputs": [],
   "source": [
    "rv=[]\n",
    "pv=[]\n",
    "for p in range(1,7):\n",
    "    X = data[data.P==p].iloc[:, [0,2,3,4,5,6,7,8,9,10]].values\n",
    "    rv.extend(data[data.P==p]['target'].values)\n",
    "    #print(X.shape)\n",
    "    pv.extend(model[p-1].predict(X))\n",
    "    #print(len(pv))\n",
    "    #break"
   ]
  },
  {
   "cell_type": "code",
   "execution_count": 10,
   "id": "92268c78-200b-44aa-8dd3-c239f15d2a7f",
   "metadata": {
    "tags": []
   },
   "outputs": [
    {
     "data": {
      "text/plain": [
       "(2.8675342103362267, 1.2196958866388758)"
      ]
     },
     "execution_count": 10,
     "metadata": {},
     "output_type": "execute_result"
    }
   ],
   "source": [
    "np.sqrt(mean_squared_error(rv,pv)), np.sqrt(mean_absolute_error(rv,pv))"
   ]
  },
  {
   "cell_type": "code",
   "execution_count": null,
   "id": "f1a5073e-27ef-4493-8f2b-4f66a43ab38c",
   "metadata": {},
   "outputs": [],
   "source": []
  },
  {
   "cell_type": "code",
   "execution_count": null,
   "id": "23278deb-9553-4077-9d62-458b3cf52c57",
   "metadata": {},
   "outputs": [],
   "source": []
  },
  {
   "cell_type": "code",
   "execution_count": null,
   "id": "c78eb3b7-7140-4665-b23f-5ac1599e622c",
   "metadata": {},
   "outputs": [],
   "source": []
  },
  {
   "cell_type": "code",
   "execution_count": null,
   "id": "42b6f790-3118-45d8-8f18-13bebea4047b",
   "metadata": {},
   "outputs": [],
   "source": []
  },
  {
   "cell_type": "code",
   "execution_count": 35,
   "id": "31485ca3-765a-460a-ad79-470b44ddb85b",
   "metadata": {
    "tags": []
   },
   "outputs": [
    {
     "ename": "AttributeError",
     "evalue": "'DataFrame' object has no attribute 'Exp'",
     "output_type": "error",
     "traceback": [
      "\u001b[0;31m---------------------------------------------------------------------------\u001b[0m",
      "\u001b[0;31mAttributeError\u001b[0m                            Traceback (most recent call last)",
      "Cell \u001b[0;32mIn[35], line 3\u001b[0m\n\u001b[1;32m      1\u001b[0m \u001b[38;5;28;01mfor\u001b[39;00m p \u001b[38;5;129;01min\u001b[39;00m \u001b[38;5;28mrange\u001b[39m(\u001b[38;5;241m1\u001b[39m,\u001b[38;5;241m7\u001b[39m):\n\u001b[1;32m      2\u001b[0m     \u001b[38;5;28;01mfor\u001b[39;00m exp \u001b[38;5;129;01min\u001b[39;00m \u001b[38;5;28mrange\u001b[39m(\u001b[38;5;241m1\u001b[39m, \u001b[38;5;241m1901\u001b[39m):\n\u001b[0;32m----> 3\u001b[0m         X \u001b[38;5;241m=\u001b[39m data[np\u001b[38;5;241m.\u001b[39mlogical_and(data\u001b[38;5;241m.\u001b[39mP\u001b[38;5;241m==\u001b[39mp, data\u001b[38;5;241m.\u001b[39mExp\u001b[38;5;241m==\u001b[39mexp)]\u001b[38;5;241m.\u001b[39miloc[:, :\u001b[38;5;241m-\u001b[39m\u001b[38;5;241m1\u001b[39m]\u001b[38;5;241m.\u001b[39mvalues\n\u001b[1;32m      4\u001b[0m         rv \u001b[38;5;241m=\u001b[39m data[np\u001b[38;5;241m.\u001b[39mlogical_and(data\u001b[38;5;241m.\u001b[39mP\u001b[38;5;241m==\u001b[39mp, data\u001b[38;5;241m.\u001b[39mExp\u001b[38;5;241m==\u001b[39mexp)][\u001b[38;5;124m'\u001b[39m\u001b[38;5;124mtarget\u001b[39m\u001b[38;5;124m'\u001b[39m]\u001b[38;5;241m.\u001b[39mvalues\n\u001b[1;32m      5\u001b[0m         \u001b[38;5;28mprint\u001b[39m(X\u001b[38;5;241m.\u001b[39mshape)\n",
      "File \u001b[0;32m~/miniconda3/lib/python3.11/site-packages/pandas/core/generic.py:6204\u001b[0m, in \u001b[0;36mNDFrame.__getattr__\u001b[0;34m(self, name)\u001b[0m\n\u001b[1;32m   6197\u001b[0m \u001b[38;5;28;01mif\u001b[39;00m (\n\u001b[1;32m   6198\u001b[0m     name \u001b[38;5;129;01mnot\u001b[39;00m \u001b[38;5;129;01min\u001b[39;00m \u001b[38;5;28mself\u001b[39m\u001b[38;5;241m.\u001b[39m_internal_names_set\n\u001b[1;32m   6199\u001b[0m     \u001b[38;5;129;01mand\u001b[39;00m name \u001b[38;5;129;01mnot\u001b[39;00m \u001b[38;5;129;01min\u001b[39;00m \u001b[38;5;28mself\u001b[39m\u001b[38;5;241m.\u001b[39m_metadata\n\u001b[1;32m   6200\u001b[0m     \u001b[38;5;129;01mand\u001b[39;00m name \u001b[38;5;129;01mnot\u001b[39;00m \u001b[38;5;129;01min\u001b[39;00m \u001b[38;5;28mself\u001b[39m\u001b[38;5;241m.\u001b[39m_accessors\n\u001b[1;32m   6201\u001b[0m     \u001b[38;5;129;01mand\u001b[39;00m \u001b[38;5;28mself\u001b[39m\u001b[38;5;241m.\u001b[39m_info_axis\u001b[38;5;241m.\u001b[39m_can_hold_identifiers_and_holds_name(name)\n\u001b[1;32m   6202\u001b[0m ):\n\u001b[1;32m   6203\u001b[0m     \u001b[38;5;28;01mreturn\u001b[39;00m \u001b[38;5;28mself\u001b[39m[name]\n\u001b[0;32m-> 6204\u001b[0m \u001b[38;5;28;01mreturn\u001b[39;00m \u001b[38;5;28mobject\u001b[39m\u001b[38;5;241m.\u001b[39m\u001b[38;5;21m__getattribute__\u001b[39m(\u001b[38;5;28mself\u001b[39m, name)\n",
      "\u001b[0;31mAttributeError\u001b[0m: 'DataFrame' object has no attribute 'Exp'"
     ]
    }
   ],
   "source": [
    "for p in range(1,7):\n",
    "    for exp in range(1, 1901):\n",
    "        X = data[np.logical_and(data.P==p, data.Exp==exp)].iloc[:, :-1].values\n",
    "        rv = data[np.logical_and(data.P==p, data.Exp==exp)]['target'].values\n",
    "        print(X.shape)\n",
    "        pv = model[p-1].predict(X)\n",
    "        print(len(pv))\n",
    "        break\n",
    "    break"
   ]
  },
  {
   "cell_type": "code",
   "execution_count": 32,
   "id": "eb7ba6c1-2e0b-404c-9853-a0430e539633",
   "metadata": {
    "tags": []
   },
   "outputs": [
    {
     "name": "stdout",
     "output_type": "stream",
     "text": [
      "Python 3.11.4\n"
     ]
    }
   ],
   "source": [
    "!python -V"
   ]
  },
  {
   "cell_type": "code",
   "execution_count": null,
   "id": "abb50dde-3033-4e5b-91e6-36d098d77411",
   "metadata": {},
   "outputs": [],
   "source": []
  }
 ],
 "metadata": {
  "kernelspec": {
   "display_name": "Python 3 (ipykernel)",
   "language": "python",
   "name": "python3"
  },
  "language_info": {
   "codemirror_mode": {
    "name": "ipython",
    "version": 3
   },
   "file_extension": ".py",
   "mimetype": "text/x-python",
   "name": "python",
   "nbconvert_exporter": "python",
   "pygments_lexer": "ipython3",
   "version": "3.11.4"
  }
 },
 "nbformat": 4,
 "nbformat_minor": 5
}
