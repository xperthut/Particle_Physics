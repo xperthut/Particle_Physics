{
 "cells": [
  {
   "cell_type": "code",
   "execution_count": 1,
   "id": "10b614ef-9709-4a7a-9231-3f79efda1429",
   "metadata": {
    "tags": []
   },
   "outputs": [],
   "source": [
    "from sklearn.linear_model import LinearRegression\n",
    "from sklearn.svm import SVR\n",
    "from sklearn.ensemble import GradientBoostingRegressor, RandomForestRegressor\n",
    "from sklearn.preprocessing import StandardScaler, PolynomialFeatures\n",
    "from sklearn.model_selection import train_test_split, TimeSeriesSplit, GridSearchCV\n",
    "from sklearn import pipeline\n",
    "import sklearn\n",
    "import xgboost\n",
    "from xgboost import XGBRegressor\n",
    "import numpy as np\n",
    "import pandas as pd\n",
    "import math\n",
    "from sklearn.metrics import r2_score, mean_squared_error\n",
    "from numpy.random import seed\n",
    "from numpy.random import normal\n",
    "import joblib\n",
    "\n",
    "import warnings\n",
    "warnings.filterwarnings(\"ignore\")\n",
    "\n",
    "pd.options.display.max_columns = None\n",
    "pd.options.display.max_rows = None\n",
    "pd.options.mode.chained_assignment = None"
   ]
  },
  {
   "cell_type": "code",
   "execution_count": 2,
   "id": "60e2823e-81e0-4d23-b831-378817bbd16b",
   "metadata": {
    "tags": []
   },
   "outputs": [],
   "source": [
    "data_dict = {\n",
    "    'fn':'../Data/Synthetic_train_data.csv'\n",
    "}\n",
    "\n",
    "model_dict = {\n",
    "    'GB':{\n",
    "        'fn':'../model/GB.sav'\n",
    "    },\n",
    "    'RF':{\n",
    "        'fn':'../model/RF.sav'\n",
    "    },\n",
    "    'XGB':{\n",
    "        'fn':'../model/XGB.sav'\n",
    "    }\n",
    "}"
   ]
  },
  {
   "cell_type": "code",
   "execution_count": 8,
   "id": "ae26fc24-94dd-4107-9b14-f48891b56c16",
   "metadata": {
    "tags": []
   },
   "outputs": [
    {
     "name": "stdout",
     "output_type": "stream",
     "text": [
      "fn\n",
      "[1 2 3 4 5 6]\n",
      "621270 621270 621270\n",
      "Model=GB, useExp=fn, RMSE=0.00150\n",
      "621270 621270 621270\n",
      "Model=RF, useExp=fn, RMSE=0.00022\n",
      "621270 621270 621270\n",
      "Model=XGB, useExp=fn, RMSE=0.00050\n"
     ]
    }
   ],
   "source": [
    "for key in data_dict:\n",
    "    print(key)\n",
    "    data = pd.read_csv(data_dict[key])\n",
    "    print(data.P.unique())\n",
    "    #display(data.head())\n",
    "    #break\n",
    "    for model_type in ['GB', 'RF', 'XGB']:\n",
    "        model = joblib.load(model_dict[model_type][key])\n",
    "        \n",
    "        rv=[]\n",
    "        pv=[]\n",
    "        \n",
    "        for p in range(1,7):\n",
    "            #for exp in range(1, 1901):\n",
    "            X = data[data.P==p].iloc[:, :-1].values\n",
    "            rv.extend(data[data.P==p]['target'].values)\n",
    "            pv.extend(model[p-1].predict(X))\n",
    "      \n",
    "        print(data.shape[0], len(rv), len(pv))\n",
    "        \n",
    "        if len(rv)==data.shape[0] and len(pv)==data.shape[0]:\n",
    "            rmse = np.sqrt(mean_squared_error(rv,pv))\n",
    "            print(f\"Model={model_type}, useExp={key}, RMSE={rmse:.5f}\")"
   ]
  },
  {
   "cell_type": "code",
   "execution_count": null,
   "id": "3d817a6d-3097-4393-846b-438d277b52ff",
   "metadata": {},
   "outputs": [],
   "source": []
  },
  {
   "cell_type": "code",
   "execution_count": null,
   "id": "abb50dde-3033-4e5b-91e6-36d098d77411",
   "metadata": {},
   "outputs": [],
   "source": []
  }
 ],
 "metadata": {
  "kernelspec": {
   "display_name": "Python 3 (ipykernel)",
   "language": "python",
   "name": "python3"
  },
  "language_info": {
   "codemirror_mode": {
    "name": "ipython",
    "version": 3
   },
   "file_extension": ".py",
   "mimetype": "text/x-python",
   "name": "python",
   "nbconvert_exporter": "python",
   "pygments_lexer": "ipython3",
   "version": "3.11.4"
  }
 },
 "nbformat": 4,
 "nbformat_minor": 5
}
